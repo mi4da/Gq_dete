{
 "cells": [
  {
   "cell_type": "code",
   "execution_count": 1,
   "metadata": {},
   "outputs": [],
   "source": [
    "import cv2"
   ]
  },
  {
   "cell_type": "code",
   "execution_count": 50,
   "metadata": {},
   "outputs": [
    {
     "name": "stdout",
     "output_type": "stream",
     "text": [
      "[1, 1, 1, 1, 1, 1]\n",
      "其他垃圾: 0.9926 15 9 283 292\n"
     ]
    }
   ],
   "source": [
    "#coding:utf-8\n",
    "import numpy as np\n",
    "import cv2\n",
    "import os\n",
    "weightsPath='TrashC_best.weights'# 模型权重文件\n",
    "configPath=\"TrashC.cfg\"# 模型配置文件\n",
    "labelsPath = \"NewClasse_V1.names\"# 模型类别标签文件\n",
    "#初始化一些参数\n",
    "LABELS = open(labelsPath,encoding='utf-8').read().strip().split(\"\\n\")\n",
    "boxes = []\n",
    "confidences = []\n",
    "classIDs = []\n",
    "\n",
    "#加载 网络配置与训练的权重文件 构建网络\n",
    "net = cv2.dnn.readNetFromDarknet(configPath,weightsPath)  \n",
    "#读入待检测的图像\n",
    "image = cv2.imread('Test_Pic/fimg_0.jpg')\n",
    "#得到图像的高和宽\n",
    "(H,W) = image.shape[0:2]\n",
    "\n",
    "\n",
    "# 得到 YOLO需要的输出层\n",
    "ln = net.getLayerNames()\n",
    "out = net.getUnconnectedOutLayers()#得到未连接层得序号  [[200] /n [267]  /n [400] ]\n",
    "x = []\n",
    "for i in out:   # 1=[200]\n",
    "    x.append(ln[i[0]-1])    # i[0]-1    取out中的数字  [200][0]=200  ln(199)= 'yolo_82'\n",
    "ln=x\n",
    "# ln  =  ['yolo_82', 'yolo_94', 'yolo_106']  得到 YOLO需要的输出层\n",
    "\n",
    "\n",
    "\n",
    "#从输入图像构造一个blob，然后通过加载的模型，给我们提供边界框和相关概率\n",
    "#blobFromImage(image, scalefactor=None, size=None, mean=None, swapRB=None, crop=None, ddepth=None)\n",
    "blob = cv2.dnn.blobFromImage(image, 1 / 255.0, (416, 416),swapRB=True, crop=False)#构造了一个blob图像，对原图像进行了图像的归一化，缩放了尺寸 ，对应训练模型\n",
    "\n",
    "net.setInput(blob) #将blob设为输入？？？ 具体作用还不是很清楚\n",
    "layerOutputs = net.forward(ln)  #ln此时为输出层名称  ，向前传播  得到检测结果\n",
    "\n",
    "for output in layerOutputs:  #对三个输出层 循环\n",
    "    for detection in output:  #对每个输出层中的每个检测框循环\n",
    "        \n",
    "        scores=detection[5:]  #detection=[x,y,h,w,c,class1,class2] scores取第6位至最后\n",
    "        classID = np.argmax(scores)#np.argmax反馈最大值的索引\n",
    "        confidence = scores[classID]\n",
    "        \n",
    "        if confidence > 0.5:#过滤掉那些置信度较小的检测结果\n",
    "            \n",
    "            box = detection[0:4] * np.array([W, H, W, H])\n",
    "            \n",
    "            #print(box)\n",
    "            (centerX, centerY, width, height)= box.astype(\"int\")\n",
    "            # 边框的左上角\n",
    "            x = int(centerX - (width / 2))\n",
    "            y = int(centerY - (height / 2))\n",
    "            # 更新检测出来的框\n",
    "            boxes.append([x, y, int(width), int(height)])\n",
    "            confidences.append(float(confidence))\n",
    "            \n",
    "            classIDs.append(classID)\n",
    "            \n",
    "\n",
    "print(classIDs)\n",
    "idxs=cv2.dnn.NMSBoxes(boxes, confidences, 0.2,0.3)\n",
    "box_seq = idxs.flatten()#[ 2  9  7 10  6  5  4]\n",
    "if len(idxs)>0:\n",
    "    for seq in box_seq:\n",
    "        (x, y) = (boxes[seq][0], boxes[seq][1])  # 框左上角\n",
    "        (w, h) = (boxes[seq][2], boxes[seq][3])  # 框宽高\n",
    "        if classIDs[seq]==0: #根据类别设定框的颜色\n",
    "            color = [0,0,255]\n",
    "        else:\n",
    "            color = [0,255,0]\n",
    "        cv2.rectangle(image, (x, y), (x + w, y + h), color, 2)  # 画框\n",
    "        text = \"{}: {:.4f}\".format(LABELS[classIDs[seq]], confidences[seq])\n",
    "        cv2.putText(image, 'Classs', (x, y+20), cv2.FONT_HERSHEY_PLAIN, 2, color, 2)  # 写字\n",
    "cv2.namedWindow('Image', cv2.WINDOW_NORMAL)\n",
    "cv2.imshow(\"Image\", image)\n",
    "cv2.waitKey(0)\n",
    "#显示具体信息，顺序是 类别与置信度，方框xywh位置,（打中文会乱码，所以一律输出Classs\n",
    "print(text,x,y,w,h)"
   ]
  }
 ],
 "metadata": {
  "kernelspec": {
   "display_name": "Python 3",
   "language": "python",
   "name": "python3"
  },
  "language_info": {
   "codemirror_mode": {
    "name": "ipython",
    "version": 3
   },
   "file_extension": ".py",
   "mimetype": "text/x-python",
   "name": "python",
   "nbconvert_exporter": "python",
   "pygments_lexer": "ipython3",
   "version": "3.8.5"
  }
 },
 "nbformat": 4,
 "nbformat_minor": 5
}
